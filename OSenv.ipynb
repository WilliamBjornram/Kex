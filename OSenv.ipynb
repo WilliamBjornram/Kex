{
  "nbformat": 4,
  "nbformat_minor": 0,
  "metadata": {
    "colab": {
      "provenance": [],
      "include_colab_link": true
    },
    "kernelspec": {
      "name": "python3",
      "display_name": "Python 3"
    },
    "language_info": {
      "name": "python"
    }
  },
  "cells": [
    {
      "cell_type": "markdown",
      "metadata": {
        "id": "view-in-github",
        "colab_type": "text"
      },
      "source": [
        "<a href=\"https://colab.research.google.com/github/WilliamBjornram/Kex/blob/main/OSenv.ipynb\" target=\"_parent\"><img src=\"https://colab.research.google.com/assets/colab-badge.svg\" alt=\"Open In Colab\"/></a>"
      ]
    },
    {
      "cell_type": "code",
      "execution_count": 6,
      "metadata": {
        "id": "__QlpfLhnapN",
        "colab": {
          "base_uri": "https://localhost:8080/"
        },
        "outputId": "3b619c71-3a92-4e09-d459-71023caea6e5"
      },
      "outputs": [
        {
          "output_type": "stream",
          "name": "stdout",
          "text": [
            "Cloning into 'open_spiel'...\n",
            "remote: Enumerating objects: 39137, done.\u001b[K\n",
            "remote: Counting objects: 100% (4545/4545), done.\u001b[K\n",
            "remote: Compressing objects: 100% (318/318), done.\u001b[K\n",
            "remote: Total 39137 (delta 4344), reused 4225 (delta 4221), pack-reused 34592 (from 4)\u001b[K\n",
            "Receiving objects: 100% (39137/39137), 29.79 MiB | 13.04 MiB/s, done.\n",
            "Resolving deltas: 100% (31070/31070), done.\n"
          ]
        }
      ],
      "source": [
        "!git clone https://github.com/google-deepmind/open_spiel.git"
      ]
    },
    {
      "cell_type": "code",
      "source": [
        "from google.colab import files\n",
        "files.download('open_spiel')"
      ],
      "metadata": {
        "id": "FR2xKISoxjaY"
      },
      "execution_count": null,
      "outputs": []
    },
    {
      "cell_type": "code",
      "source": [
        "!python3 -m pip install open_spiel"
      ],
      "metadata": {
        "colab": {
          "base_uri": "https://localhost:8080/"
        },
        "collapsed": true,
        "id": "KGJBZVSbYEah",
        "outputId": "49eee34e-b846-412c-e3ad-78db9aaeff20"
      },
      "execution_count": 12,
      "outputs": [
        {
          "output_type": "stream",
          "name": "stdout",
          "text": [
            "Collecting open_spiel\n",
            "  Downloading open_spiel-1.5-cp311-cp311-manylinux_2_17_x86_64.manylinux2014_x86_64.whl.metadata (4.7 kB)\n",
            "Requirement already satisfied: pip>=20.0.2 in /usr/local/lib/python3.11/dist-packages (from open_spiel) (25.0.1)\n",
            "Requirement already satisfied: attrs>=19.3.0 in /usr/local/lib/python3.11/dist-packages (from open_spiel) (25.1.0)\n",
            "Requirement already satisfied: absl-py>=0.10.0 in /usr/local/lib/python3.11/dist-packages (from open_spiel) (1.4.0)\n",
            "Requirement already satisfied: numpy>=1.21.5 in /usr/local/lib/python3.11/dist-packages (from open_spiel) (1.26.4)\n",
            "Requirement already satisfied: scipy>=1.10.1 in /usr/local/lib/python3.11/dist-packages (from open_spiel) (1.13.1)\n",
            "Collecting ml-collections>=0.1.1 (from open_spiel)\n",
            "  Downloading ml_collections-1.0.0-py3-none-any.whl.metadata (22 kB)\n",
            "Requirement already satisfied: six in /usr/local/lib/python3.11/dist-packages (from ml-collections>=0.1.1->open_spiel) (1.17.0)\n",
            "Requirement already satisfied: PyYAML in /usr/local/lib/python3.11/dist-packages (from ml-collections>=0.1.1->open_spiel) (6.0.2)\n",
            "Downloading open_spiel-1.5-cp311-cp311-manylinux_2_17_x86_64.manylinux2014_x86_64.whl (5.8 MB)\n",
            "\u001b[2K   \u001b[90m━━━━━━━━━━━━━━━━━━━━━━━━━━━━━━━━━━━━━━━━\u001b[0m \u001b[32m5.8/5.8 MB\u001b[0m \u001b[31m26.0 MB/s\u001b[0m eta \u001b[36m0:00:00\u001b[0m\n",
            "\u001b[?25hDownloading ml_collections-1.0.0-py3-none-any.whl (76 kB)\n",
            "Installing collected packages: ml-collections, open_spiel\n",
            "Successfully installed ml-collections-1.0.0 open_spiel-1.5\n"
          ]
        }
      ]
    },
    {
      "cell_type": "code",
      "source": [
        "!python /content/open_spiel/open_spiel/python/examples/example.py"
      ],
      "metadata": {
        "colab": {
          "base_uri": "https://localhost:8080/"
        },
        "collapsed": true,
        "id": "_EkIMRTxXIZR",
        "outputId": "c6d31270-e21c-47fc-959c-3e82c1a8a6c0"
      },
      "execution_count": 13,
      "outputs": [
        {
          "output_type": "stream",
          "name": "stdout",
          "text": [
            "Registered games:\n",
            "[<GameType '2048'>, <GameType 'add_noise'>, <GameType 'amazons'>, <GameType 'backgammon'>, <GameType 'bargaining'>, <GameType 'battleship'>, <GameType 'blackjack'>, <GameType 'blotto'>, <GameType 'breakthrough'>, <GameType 'bridge'>, <GameType 'bridge_uncontested_bidding'>, <GameType 'catch'>, <GameType 'chat_game'>, <GameType 'checkers'>, <GameType 'chess'>, <GameType 'cliff_walking'>, <GameType 'clobber'>, <GameType 'coin_game'>, <GameType 'colored_trails'>, <GameType 'connect_four'>, <GameType 'coop_box_pushing'>, <GameType 'coop_to_1p'>, <GameType 'coordinated_mp'>, <GameType 'crazy_eights'>, <GameType 'cursor_go'>, <GameType 'dark_chess'>, <GameType 'dark_hex'>, <GameType 'dark_hex_ir'>, <GameType 'deep_sea'>, <GameType 'dots_and_boxes'>, <GameType 'dou_dizhu'>, <GameType 'efg_game'>, <GameType 'euchre'>, <GameType 'first_sealed_auction'>, <GameType 'gin_rummy'>, <GameType 'go'>, <GameType 'goofspiel'>, <GameType 'hanabi'>, <GameType 'havannah'>, <GameType 'hearts'>, <GameType 'hex'>, <GameType 'kriegspiel'>, <GameType 'kuhn_poker'>, <GameType 'laser_tag'>, <GameType 'leduc_poker'>, <GameType 'lewis_signaling'>, <GameType 'liars_dice'>, <GameType 'liars_dice_ir'>, <GameType 'maedn'>, <GameType 'mancala'>, <GameType 'markov_soccer'>, <GameType 'matching_pennies_3p'>, <GameType 'matrix_bos'>, <GameType 'matrix_brps'>, <GameType 'matrix_cd'>, <GameType 'matrix_coordination'>, <GameType 'matrix_mp'>, <GameType 'matrix_pd'>, <GameType 'matrix_rps'>, <GameType 'matrix_rpsw'>, <GameType 'matrix_sh'>, <GameType 'matrix_shapleys_game'>, <GameType 'mfg_crowd_modelling'>, <GameType 'mfg_crowd_modelling_2d'>, <GameType 'mfg_dynamic_routing'>, <GameType 'mfg_garnet'>, <GameType 'misere'>, <GameType 'morpion_solitaire'>, <GameType 'negotiation'>, <GameType 'nfg_game'>, <GameType 'nim'>, <GameType 'nine_mens_morris'>, <GameType 'normal_form_extensive_game'>, <GameType 'oh_hell'>, <GameType 'oshi_zumo'>, <GameType 'othello'>, <GameType 'oware'>, <GameType 'pathfinding'>, <GameType 'pentago'>, <GameType 'phantom_go'>, <GameType 'phantom_ttt'>, <GameType 'phantom_ttt_ir'>, <GameType 'pig'>, <GameType 'python_block_dominoes'>, <GameType 'python_dynamic_routing'>, <GameType 'python_iterated_prisoners_dilemma'>, <GameType 'python_kuhn_poker'>, <GameType 'python_liars_poker'>, <GameType 'python_team_dominoes'>, <GameType 'python_tic_tac_toe'>, <GameType 'quoridor'>, <GameType 'rbc'>, <GameType 'repeated_game'>, <GameType 'restricted_nash_response'>, <GameType 'sheriff'>, <GameType 'skat'>, <GameType 'solitaire'>, <GameType 'spades'>, <GameType 'start_at'>, <GameType 'stones_and_gems'>, <GameType 'tarok'>, <GameType 'tic_tac_toe'>, <GameType 'tiny_bridge_2p'>, <GameType 'tiny_bridge_4p'>, <GameType 'tiny_hanabi'>, <GameType 'trade_comm'>, <GameType 'turn_based_simultaneous_game'>, <GameType 'twixt'>, <GameType 'ultimate_tic_tac_toe'>, <GameType 'universal_poker'>, <GameType 'y'>, <GameType 'zerosum'>]\n",
            "Creating game: tic_tac_toe\n",
            "...\n",
            "...\n",
            "...\n",
            "Player  0 , randomly sampled action:  x(1,1)\n",
            "...\n",
            ".x.\n",
            "...\n",
            "Player  1 , randomly sampled action:  o(0,1)\n",
            ".o.\n",
            ".x.\n",
            "...\n",
            "Player  0 , randomly sampled action:  x(2,1)\n",
            ".o.\n",
            ".x.\n",
            ".x.\n",
            "Player  1 , randomly sampled action:  o(2,2)\n",
            ".o.\n",
            ".x.\n",
            ".xo\n",
            "Player  0 , randomly sampled action:  x(0,2)\n",
            ".ox\n",
            ".x.\n",
            ".xo\n",
            "Player  1 , randomly sampled action:  o(1,0)\n",
            ".ox\n",
            "ox.\n",
            ".xo\n",
            "Player  0 , randomly sampled action:  x(2,0)\n",
            ".ox\n",
            "ox.\n",
            "xxo\n",
            "Utility for player 0 is 1.0\n",
            "Utility for player 1 is -1.0\n"
          ]
        }
      ]
    }
  ]
}